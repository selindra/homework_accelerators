{
  "nbformat": 4,
  "nbformat_minor": 0,
  "metadata": {
    "kernelspec": {
      "display_name": "Python 3",
      "language": "python",
      "name": "python3"
    },
    "language_info": {
      "codemirror_mode": {
        "name": "ipython",
        "version": 3
      },
      "file_extension": ".py",
      "mimetype": "text/x-python",
      "name": "python",
      "nbconvert_exporter": "python",
      "pygments_lexer": "ipython3",
      "version": "3.7.3"
    },
    "colab": {
      "name": "totalenergy.ipynb",
      "provenance": [],
      "include_colab_link": true
    }
  },
  "cells": [
    {
      "cell_type": "markdown",
      "metadata": {
        "id": "view-in-github",
        "colab_type": "text"
      },
      "source": [
        "<a href=\"https://colab.research.google.com/github/selindra/homework_accelerators/blob/master/totalenergy.ipynb\" target=\"_parent\"><img src=\"https://colab.research.google.com/assets/colab-badge.svg\" alt=\"Open In Colab\"/></a>"
      ]
    },
    {
      "cell_type": "code",
      "metadata": {
        "id": "jpdidXx3KIu0"
      },
      "source": [
        "import numpy as np\n",
        "import matplotlib.pyplot as plt\n"
      ],
      "execution_count": null,
      "outputs": []
    },
    {
      "cell_type": "code",
      "metadata": {
        "id": "dkjA2PZaKIu0"
      },
      "source": [
        "#q = 1.602e-19\n",
        "#c = 8.854e-12\n",
        "m = 0.511017608\n",
        "\n",
        "\n",
        "gamma = []"
      ],
      "execution_count": null,
      "outputs": []
    },
    {
      "cell_type": "code",
      "metadata": {
        "id": "yQlJZXMKKIu0"
      },
      "source": [
        "def energylos_gamma(T,m):\n",
        "            return (T/m)+1\n",
        "        "
      ],
      "execution_count": null,
      "outputs": []
    },
    {
      "cell_type": "code",
      "metadata": {
        "id": "mLQd1udoKIu0",
        "outputId": "90c4b7d9-b02c-48a5-f3f1-0245d6b278d0"
      },
      "source": [
        "for T in range(0,3000,100): \n",
        "    gamma.append(energylos_gamma(T,m))\n",
        "    \n",
        "\n",
        "plt.plot(gamma)\n",
        "plt.show\n",
        "    \n",
        "\n",
        "plt.title('Total energy dependence of gamma')\n",
        "plt.grid(color='black', linestyle='-', linewidth=0.5)\n",
        "plt.xlim(0, 3000)\n",
        "plt.xlabel('Total Energy, [MeV]')\n",
        "plt.ylim(0, 6500)\n",
        "plt.ylabel('Gamma')\n",
        "\n",
        "plt.savefig('Total_energy_dependence_of_gamma.png')"
      ],
      "execution_count": null,
      "outputs": [
        {
          "output_type": "execute_result",
          "data": {
            "text/plain": [
              "Text(0, 0.5, 'Gamma')"
            ]
          },
          "metadata": {
            "tags": []
          },
          "execution_count": 74
        },
        {
          "output_type": "display_data",
          "data": {
            "image/png": "[encoded data removed]",
            "text/plain": [
              "<Figure size 432x288 with 1 Axes>"
            ]
          },
          "metadata": {
            "tags": [],
            "needs_background": "light"
          }
        }
      ]
    },
    {
      "cell_type": "code",
      "metadata": {
        "id": "mTsrwV4oKIu1"
      },
      "source": [
        ""
      ],
      "execution_count": null,
      "outputs": []
    },
    {
      "cell_type": "code",
      "metadata": {
        "id": "jxgujzbfKIu1"
      },
      "source": [
        ""
      ],
      "execution_count": null,
      "outputs": []
    }
  ]
}